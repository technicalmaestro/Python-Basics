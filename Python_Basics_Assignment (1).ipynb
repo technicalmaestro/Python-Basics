{
  "nbformat": 4,
  "nbformat_minor": 0,
  "metadata": {
    "colab": {
      "provenance": []
    },
    "kernelspec": {
      "name": "python3",
      "display_name": "Python 3"
    },
    "language_info": {
      "name": "python"
    }
  },
  "cells": [
    {
      "cell_type": "markdown",
      "source": [
        "# **Python Basics Solutions**"
      ],
      "metadata": {
        "id": "sv4UolHCi8Tv"
      }
    },
    {
      "cell_type": "markdown",
      "source": [
        "# Theory solutions\n",
        "\n",
        "\n",
        "**Q1.What is Python,and why is it popular ?**\n",
        "\n",
        " .Python is a high-level,interpreted programming language known for its readability and versatility. It’s popular because of its simple syntax,large community,extensive libraries,and wide applicability, including web development,data analysis, AI,and more.\n",
        "\n",
        "\n",
        " **Q2.What is an interpreter in Python ?**\n",
        "\n",
        "  .An interpreter is a program that executes Python code line-by-line, allowing you to run scripts interactively.\n",
        "  This makes it easier to debug and develop code quickly.\n",
        "\n",
        " **Q3.What are pre-defined keywords in Python ?**\n",
        "  \n",
        "  .Pre-defined keywords in Python are reserved words that have a specific meaning and purpose within the language.Examples include if,else,for,while,True,and False.\n",
        "\n",
        " **Q4.Can keywords be used as variable names ?**\n",
        "\n",
        " .No,keywords cannot be used as variable names as they are reserved by Python for specific functionalities.\n",
        "\n",
        " **Q5.What is mutability in Python ?**\n",
        "\n",
        " .Mutability refers to an object’s ability to change its state or content after creation.For example, lists are mutable,while tuples are immutable.\n",
        "\n",
        " **Q6.Why are lists mutable,but tuples are immutable ?**\n",
        "\n",
        " .Lists are designed to be flexible,so they allow modification of elements. Tuples, on the other hand,are designed as fixed collections,making them faster and safer in scenarios where data should not change.\n",
        "\n",
        " **Q7.What is the difference between “==” and “is” operators in Python?**\n",
        "\n",
        " .“==” checks if the values of two objects are equal,while “is” checks if two variables point to the same memory location (i.e., if they are the same object).\n",
        "\n",
        " **Q8.What are logical operators in Python ?**\n",
        "\n",
        " .Logical operators are used to combine multiple conditions and include and, or,and not.\n",
        "\n",
        " **Q9.What is type casting in Python ?**\n",
        "\n",
        " .Type casting is the conversion of one data type to another,\n",
        " such as converting an integer to a string or a float.\n",
        "\n",
        "\n",
        " **Q10.What is the difference between implicit and explicit type casting?**\n",
        "\n",
        " .Implicit casting is done automatically by Python, while explicit casting requires the use of functions like int(),float(),or str() to convert between types.\n",
        "\n",
        " **Q11.What is the purpose of conditional statements in Python ?**\n",
        "\n",
        " .Conditional statements,such as if,elif,and else,allow Python to execute certain blocks of code based on whether a condition is True or False.\n",
        "\n",
        " **Q12.How does the elif statement work ?**\n",
        "\n",
        " .The elif statement provides additional conditions after an initial if.It is only executed if the previous if or elif condition was False.\n",
        "\n",
        " **Q13.What is the difference between for and while loops ?**\n",
        "\n",
        " .A for loop is typically used when you know the number of iterations in advance,while a while loop is used when the number of iterations depends on a condition.\n",
        "\n",
        " **Q14.Describe a scenario where a while loop is more suitable than a for loop?**\n",
        "\n",
        " .A while loop is ideal when you want to continue looping until a specific condition is met,like waiting for user input or monitoring a process until it completes.\n",
        "\n",
        "\n",
        "    \n",
        "   \n",
        "\n",
        "\n",
        "\n",
        "\n",
        "\n",
        "\n",
        "\n",
        "\n",
        "\n"
      ],
      "metadata": {
        "id": "av2e0kkvsDls"
      }
    },
    {
      "cell_type": "markdown",
      "source": [
        "\n",
        " # Practical solutions\n",
        "**Q1.Write a Python program to print \"Hello, World!\"**\n",
        "\n",
        "    \n",
        "   \n",
        "\n",
        "\n",
        "\n",
        "\n",
        "\n",
        "\n",
        "\n",
        "\n",
        "\n"
      ],
      "metadata": {
        "id": "L-dA980aRqw5"
      }
    },
    {
      "cell_type": "code",
      "source": [
        "print(\"Hello, world!\")"
      ],
      "metadata": {
        "colab": {
          "base_uri": "https://localhost:8080/"
        },
        "id": "-jwJE8QgSJan",
        "outputId": "616b0c8d-a3b0-4ac6-e96f-572229d92f35"
      },
      "execution_count": 5,
      "outputs": [
        {
          "output_type": "stream",
          "name": "stdout",
          "text": [
            "Hello, world!\n"
          ]
        }
      ]
    },
    {
      "cell_type": "markdown",
      "source": [
        "**Q2.Write a Python program that displays your name and age.**"
      ],
      "metadata": {
        "id": "msL4luXKPApx"
      }
    },
    {
      "cell_type": "code",
      "source": [
        "name = \"Jupiter\"\n",
        "age = 25\n",
        "print(f\"My name is {name} and I am {age} years old.\")"
      ],
      "metadata": {
        "id": "8KnRK3SkWg5H",
        "colab": {
          "base_uri": "https://localhost:8080/"
        },
        "outputId": "2cc9ac89-88c7-4266-a74f-724643381b8f"
      },
      "execution_count": 3,
      "outputs": [
        {
          "output_type": "stream",
          "name": "stdout",
          "text": [
            "My name is Jupiter and I am 25 years old.\n"
          ]
        }
      ]
    },
    {
      "cell_type": "markdown",
      "source": [
        "**Q3.Write code to print all the pre-defined keywords in Python using the keyword library.**\n"
      ],
      "metadata": {
        "id": "3Qi80_dlQkd9"
      }
    },
    {
      "cell_type": "code",
      "source": [
        "import keyword\n",
        "print(keyword.kwlist)"
      ],
      "metadata": {
        "colab": {
          "base_uri": "https://localhost:8080/"
        },
        "id": "6WNocPeEQ4EN",
        "outputId": "96d7bcba-8a23-4417-9c67-f4385e0222ae"
      },
      "execution_count": 4,
      "outputs": [
        {
          "output_type": "stream",
          "name": "stdout",
          "text": [
            "['False', 'None', 'True', 'and', 'as', 'assert', 'async', 'await', 'break', 'class', 'continue', 'def', 'del', 'elif', 'else', 'except', 'finally', 'for', 'from', 'global', 'if', 'import', 'in', 'is', 'lambda', 'nonlocal', 'not', 'or', 'pass', 'raise', 'return', 'try', 'while', 'with', 'yield']\n"
          ]
        }
      ]
    },
    {
      "cell_type": "markdown",
      "source": [
        "**Q4.Write a program that checks if a given word is a Python keyword.**"
      ],
      "metadata": {
        "id": "wY47bbIxScTy"
      }
    },
    {
      "cell_type": "code",
      "source": [
        "import keyword\n",
        "word = input(\"Enter the word\")\n",
        "list_keywords=keyword.kwlist\n",
        "if word in list_keywords:\n",
        "  print(\"Yes, this is a Keyword\")\n",
        "else:\n",
        "  print(\"Oh no,This is not a keyword\")"
      ],
      "metadata": {
        "colab": {
          "base_uri": "https://localhost:8080/"
        },
        "id": "SUCwa7YwS_Cf",
        "outputId": "a68a8324-80cc-45e0-e77f-84c082e0f7cd"
      },
      "execution_count": 7,
      "outputs": [
        {
          "output_type": "stream",
          "name": "stdout",
          "text": [
            "Enter the wordNone\n",
            "Yes, this is a Keyword\n"
          ]
        }
      ]
    },
    {
      "cell_type": "markdown",
      "source": [
        "**Q5.Create a list and tuple in Python, and demonstrate how attempting to change an element works differently for each.**\n",
        "\n"
      ],
      "metadata": {
        "id": "jTvVUevDT5Tm"
      }
    },
    {
      "cell_type": "code",
      "source": [
        "my_lst=[1,2,6,4]#list\n",
        "print(\"original list: \",my_lst)\n",
        "#changing an element in list\n",
        "my_lst[2]=5\n",
        "print(\"list after changing an element :\",my_lst)\n",
        "\n",
        "print()\n",
        "\n",
        "my_tuple=(2,4,3,6,) #tuple\n",
        "print(\"original tuple: \",my_tuple)\n",
        "#changing an element in list\n",
        "\n",
        "#my_tuple[2]=5 # This line causes a TypeError because tuples are immutable\n",
        "#print(\"Tuple after changing an element :\",my_tuple)\n"
      ],
      "metadata": {
        "colab": {
          "base_uri": "https://localhost:8080/"
        },
        "id": "JqWC44cYUzxx",
        "outputId": "eb17c7a9-deb6-4065-8d6e-d305536aba7c"
      },
      "execution_count": 8,
      "outputs": [
        {
          "output_type": "stream",
          "name": "stdout",
          "text": [
            "original list:  [1, 2, 6, 4]\n",
            "list after changing an element : [1, 2, 5, 4]\n",
            "\n",
            "original tuple:  (2, 4, 3, 6)\n"
          ]
        }
      ]
    },
    {
      "cell_type": "markdown",
      "source": [
        "**Q6.Write a function to demonstrate the behavior of mutable and immutable arguments.**\n"
      ],
      "metadata": {
        "id": "quqVgXY3U_4k"
      }
    },
    {
      "cell_type": "code",
      "source": [
        "def mutable():\n",
        "  my_lst=[1,2,6,4]#list\n",
        "  print(\"original list: \",my_lst)\n",
        "  #changing an element in list\n",
        "  my_lst[2]=5\n",
        "  print(\"list after changing an element :\",my_lst)\n",
        "def immutable():\n",
        "  my_tuple=(2,4,3,6,) #tuple\n",
        "  print(\"original tuple: \",my_tuple)\n",
        "  #changing an element in list\n",
        "  try:\n",
        "    my_tuple[2]=5\n",
        "    print(\"Tuple after changing an element :\",my_tuple)\n",
        "  except:\n",
        "    print(\"Tuple is Immutable\")\n",
        "\n",
        "mutable()\n",
        "immutable()\n"
      ],
      "metadata": {
        "colab": {
          "base_uri": "https://localhost:8080/"
        },
        "id": "ZkNb-5MUVSy6",
        "outputId": "562b3862-9b7d-486c-f17e-8235edd82459"
      },
      "execution_count": 9,
      "outputs": [
        {
          "output_type": "stream",
          "name": "stdout",
          "text": [
            "original list:  [1, 2, 6, 4]\n",
            "list after changing an element : [1, 2, 5, 4]\n",
            "original tuple:  (2, 4, 3, 6)\n",
            "Tuple is Immutable\n"
          ]
        }
      ]
    },
    {
      "cell_type": "markdown",
      "source": [
        "**Q7.Write a program that performs basic arithmetic operations on two user-input numbers.**\n"
      ],
      "metadata": {
        "id": "msgM8GL2Vjx7"
      }
    },
    {
      "cell_type": "code",
      "source": [
        "num1=int(input(\"Enter the first number\"))\n",
        "num2=int(input(\"Enter the second number\"))\n",
        "print(\"Addition of two number :\",num1+num2)\n",
        "print(\"Subtraction of two number :\",num1-num2)\n",
        "print(\"Multiplication of two number :\",num1*num2)\n",
        "print(\"Division of two number :\",num1/num2)\n",
        "print(\"modulous of two number :\",num1%num2)\n",
        "print(\"Floor Division of two number :\",num1//num2)\n",
        "print(\"Exponential of two number :\",num1/num2)\n"
      ],
      "metadata": {
        "colab": {
          "base_uri": "https://localhost:8080/"
        },
        "id": "fjc5IXkjVuh-",
        "outputId": "7e093932-0a63-418b-d5ee-5ce4961099c4"
      },
      "execution_count": 10,
      "outputs": [
        {
          "output_type": "stream",
          "name": "stdout",
          "text": [
            "Enter the first number12\n",
            "Enter the second number18\n",
            "Addition of two number : 30\n",
            "Subtraction of two number : -6\n",
            "Multiplication of two number : 216\n",
            "Division of two number : 0.6666666666666666\n",
            "modulous of two number : 12\n",
            "Floor Division of two number : 0\n",
            "Exponential of two number : 0.6666666666666666\n"
          ]
        }
      ]
    },
    {
      "cell_type": "markdown",
      "source": [
        "**Q8.Write a program to demonstrate the use of logical operators.**\n"
      ],
      "metadata": {
        "id": "PAqX9uGhWHBm"
      }
    },
    {
      "cell_type": "code",
      "source": [
        "num1=True\n",
        "num2=False\n",
        "print(\"logical Operator and :\",num1 and num2)\n",
        "print(\"logical Operator or :\",num1 or num2)\n",
        "print(\"logical Operator not :\",not num1 )"
      ],
      "metadata": {
        "colab": {
          "base_uri": "https://localhost:8080/"
        },
        "id": "xvEq6ywhWTOk",
        "outputId": "948f65aa-ff5b-435d-9cbc-d4d897a4ad72"
      },
      "execution_count": 11,
      "outputs": [
        {
          "output_type": "stream",
          "name": "stdout",
          "text": [
            "logical Operator and : False\n",
            "logical Operator or : True\n",
            "logical Operator not : False\n"
          ]
        }
      ]
    },
    {
      "cell_type": "markdown",
      "source": [
        "**Q9.Write a Python program to convert user input from string to integer, float, and boolean types.**\n"
      ],
      "metadata": {
        "id": "GaMcLBKiWcZh"
      }
    },
    {
      "cell_type": "code",
      "source": [
        "user_input=input(\"Enter the number\")\n",
        "print(\"User_input :\",user_input)\n",
        "if user_input.isdigit():\n",
        "  #String --> integer\n",
        "  print(\"User input in integer:\",int(user_input))\n",
        "  #String --> float\n",
        "  print(\"User input in float:\",float(user_input))\n",
        "  #String --> boolean\n",
        "  print(\"User input in boolean:\",bool(user_input))\n",
        "else:\n",
        "  print(\"Invalid Input , Enter a digit\")"
      ],
      "metadata": {
        "colab": {
          "base_uri": "https://localhost:8080/"
        },
        "id": "_9qOi0XaWo3p",
        "outputId": "c64ff6dd-0f88-4e07-8163-731d70d20fc2"
      },
      "execution_count": 12,
      "outputs": [
        {
          "output_type": "stream",
          "name": "stdout",
          "text": [
            "Enter the number110\n",
            "User_input : 110\n",
            "User input in integer: 110\n",
            "User input in float: 110.0\n",
            "User input in boolean: True\n"
          ]
        }
      ]
    },
    {
      "cell_type": "markdown",
      "source": [
        "**Q10.Write code to demonstrate type casting with list elements.**\n"
      ],
      "metadata": {
        "id": "ixGvhNmCW6d5"
      }
    },
    {
      "cell_type": "code",
      "source": [
        "#lst1 consist of float and integer\n",
        "def implicit(lst1):\n",
        "  total_sum=sum(lst1)\n",
        "  print(total_sum)\n",
        "\n",
        "def explicit(lst2):\n",
        "  num=[int(i) for i in lst2]\n",
        "  total_sum2=sum(num)\n",
        "  print(total_sum2)\n",
        "\n",
        "#lst2 consist of string and integer\n",
        "lst1=[1,2,3.3,4.5,6.0]\n",
        "lst2=['1','2','3','4','5']\n",
        "implicit(lst1)\n",
        "explicit(lst2)\n"
      ],
      "metadata": {
        "colab": {
          "base_uri": "https://localhost:8080/"
        },
        "id": "N_AoKMoDW-5e",
        "outputId": "9149d895-d614-4e5e-b2ae-0379a3fd35dd"
      },
      "execution_count": 13,
      "outputs": [
        {
          "output_type": "stream",
          "name": "stdout",
          "text": [
            "16.8\n",
            "15\n"
          ]
        }
      ]
    },
    {
      "cell_type": "markdown",
      "source": [
        "**Q11.Write a program that checks if a number is positive, negative, or zero.**\n"
      ],
      "metadata": {
        "id": "s5PsY_dAXOJt"
      }
    },
    {
      "cell_type": "code",
      "source": [
        "num=int(input(\"Enter the number\"))\n",
        "if num==0:\n",
        "  print(\"It is zero\")\n",
        "elif num>0:\n",
        "  print(\"It is a positive number\")\n",
        "else:\n",
        "  print(\"It is a negative number\")\n",
        ""
      ],
      "metadata": {
        "colab": {
          "base_uri": "https://localhost:8080/"
        },
        "id": "jJju1QVUXT1m",
        "outputId": "15580f6a-7af8-44ab-f1e6-500a25bdca2b"
      },
      "execution_count": 14,
      "outputs": [
        {
          "output_type": "stream",
          "name": "stdout",
          "text": [
            "Enter the number8\n",
            "It is a positive number\n"
          ]
        }
      ]
    },
    {
      "cell_type": "markdown",
      "source": [
        "**Q12.Write a for loop to print numbers from 1 to 10.**\n"
      ],
      "metadata": {
        "id": "PYw9KqLoXeZ_"
      }
    },
    {
      "cell_type": "code",
      "source": [
        "for i in range(1,11):\n",
        "  print(i)"
      ],
      "metadata": {
        "colab": {
          "base_uri": "https://localhost:8080/"
        },
        "id": "DsxDShvwXn9n",
        "outputId": "4e824c91-ff53-4e82-ec47-40faea359dd5"
      },
      "execution_count": 15,
      "outputs": [
        {
          "output_type": "stream",
          "name": "stdout",
          "text": [
            "1\n",
            "2\n",
            "3\n",
            "4\n",
            "5\n",
            "6\n",
            "7\n",
            "8\n",
            "9\n",
            "10\n"
          ]
        }
      ]
    },
    {
      "cell_type": "markdown",
      "source": [
        "**Q13.Write a Python program to find the sum of all even numbers between 1 and 50.**"
      ],
      "metadata": {
        "id": "kDIgTSJnlcp4"
      }
    },
    {
      "cell_type": "code",
      "source": [
        "sum=0\n",
        "for i in range(3,31,2):\n",
        "  sum+=i\n",
        "print(sum)"
      ],
      "metadata": {
        "colab": {
          "base_uri": "https://localhost:8080/"
        },
        "id": "LWQFWFXvla6c",
        "outputId": "5e835023-3a42-4cc0-d32a-9ad35d20568d"
      },
      "execution_count": 16,
      "outputs": [
        {
          "output_type": "stream",
          "name": "stdout",
          "text": [
            "224\n"
          ]
        }
      ]
    },
    {
      "cell_type": "markdown",
      "source": [
        "**Q14.Write a program to reverse a string using a while loop.**"
      ],
      "metadata": {
        "id": "W8l01Q_9luVG"
      }
    },
    {
      "cell_type": "code",
      "source": [
        "string=input(\"Enter the string\")\n",
        "i=len(string)-1\n",
        "while i>=0:\n",
        "  print(string[i],end=\"\")\n",
        "  i-=1"
      ],
      "metadata": {
        "colab": {
          "base_uri": "https://localhost:8080/"
        },
        "id": "8Vyh0vRml7pF",
        "outputId": "82de6b3b-27fa-4038-ace5-246ce5cd8670"
      },
      "execution_count": 17,
      "outputs": [
        {
          "output_type": "stream",
          "name": "stdout",
          "text": [
            "Enter the stringpw skills\n",
            "slliks wp"
          ]
        }
      ]
    },
    {
      "cell_type": "markdown",
      "source": [
        "**Q15.Write a Python program to calculate the factorial of a number provided by the user using a while loop.**"
      ],
      "metadata": {
        "id": "Y4zuyMksmM5w"
      }
    },
    {
      "cell_type": "code",
      "source": [
        "num=int(input(\"Enter the number :\"))\n",
        "i=2\n",
        "fact=1\n",
        "while i<=num:\n",
        "  fact=fact*i\n",
        "  i+=1\n",
        "print(f\"factorial of {num} is {fact}\")\n"
      ],
      "metadata": {
        "colab": {
          "base_uri": "https://localhost:8080/"
        },
        "id": "xphYu6rTls39",
        "outputId": "3f38f537-3b88-4cfb-c90c-59b6bcfff2b0"
      },
      "execution_count": 18,
      "outputs": [
        {
          "output_type": "stream",
          "name": "stdout",
          "text": [
            "Enter the number :7\n",
            "factorial of 7 is 5040\n"
          ]
        }
      ]
    },
    {
      "cell_type": "code",
      "source": [],
      "metadata": {
        "id": "StKGfVcTmkc1"
      },
      "execution_count": null,
      "outputs": []
    }
  ]
}